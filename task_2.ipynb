{
 "cells": [
  {
   "cell_type": "markdown",
   "id": "69c0519b",
   "metadata": {},
   "source": [
    "# Importing modules"
   ]
  },
  {
   "cell_type": "code",
   "execution_count": 23,
   "id": "de306f5d",
   "metadata": {},
   "outputs": [],
   "source": [
    "import numpy as np\n",
    "import pandas as pd\n",
    "import matplotlib.pyplot as plt\n",
    "import seaborn as sns\n",
    "from sklearn.model_selection import train_test_split\n",
    "from sklearn.linear_model import SGDRegressor\n",
    "from sklearn.preprocessing import StandardScaler\n",
    "from sklearn.metrics import mean_absolute_error,mean_squared_error,r2_score\n",
    "from sklearn.pipeline import Pipeline"
   ]
  },
  {
   "cell_type": "markdown",
   "id": "1031c3cd",
   "metadata": {},
   "source": [
    "# importing Dataset"
   ]
  },
  {
   "cell_type": "code",
   "execution_count": 2,
   "id": "f0cf902b",
   "metadata": {},
   "outputs": [
    {
     "data": {
      "text/html": [
       "<div>\n",
       "<style scoped>\n",
       "    .dataframe tbody tr th:only-of-type {\n",
       "        vertical-align: middle;\n",
       "    }\n",
       "\n",
       "    .dataframe tbody tr th {\n",
       "        vertical-align: top;\n",
       "    }\n",
       "\n",
       "    .dataframe thead th {\n",
       "        text-align: right;\n",
       "    }\n",
       "</style>\n",
       "<table border=\"1\" class=\"dataframe\">\n",
       "  <thead>\n",
       "    <tr style=\"text-align: right;\">\n",
       "      <th></th>\n",
       "      <th>Name</th>\n",
       "      <th>Year</th>\n",
       "      <th>Duration</th>\n",
       "      <th>Genre</th>\n",
       "      <th>Rating</th>\n",
       "      <th>Votes</th>\n",
       "      <th>Director</th>\n",
       "      <th>Actor 1</th>\n",
       "      <th>Actor 2</th>\n",
       "      <th>Actor 3</th>\n",
       "    </tr>\n",
       "  </thead>\n",
       "  <tbody>\n",
       "    <tr>\n",
       "      <th>0</th>\n",
       "      <td></td>\n",
       "      <td>NaN</td>\n",
       "      <td>NaN</td>\n",
       "      <td>Drama</td>\n",
       "      <td>NaN</td>\n",
       "      <td>NaN</td>\n",
       "      <td>J.S. Randhawa</td>\n",
       "      <td>Manmauji</td>\n",
       "      <td>Birbal</td>\n",
       "      <td>Rajendra Bhatia</td>\n",
       "    </tr>\n",
       "    <tr>\n",
       "      <th>1</th>\n",
       "      <td>#Gadhvi (He thought he was Gandhi)</td>\n",
       "      <td>(2019)</td>\n",
       "      <td>109 min</td>\n",
       "      <td>Drama</td>\n",
       "      <td>7.0</td>\n",
       "      <td>8</td>\n",
       "      <td>Gaurav Bakshi</td>\n",
       "      <td>Rasika Dugal</td>\n",
       "      <td>Vivek Ghamande</td>\n",
       "      <td>Arvind Jangid</td>\n",
       "    </tr>\n",
       "    <tr>\n",
       "      <th>2</th>\n",
       "      <td>#Homecoming</td>\n",
       "      <td>(2021)</td>\n",
       "      <td>90 min</td>\n",
       "      <td>Drama, Musical</td>\n",
       "      <td>NaN</td>\n",
       "      <td>NaN</td>\n",
       "      <td>Soumyajit Majumdar</td>\n",
       "      <td>Sayani Gupta</td>\n",
       "      <td>Plabita Borthakur</td>\n",
       "      <td>Roy Angana</td>\n",
       "    </tr>\n",
       "    <tr>\n",
       "      <th>3</th>\n",
       "      <td>#Yaaram</td>\n",
       "      <td>(2019)</td>\n",
       "      <td>110 min</td>\n",
       "      <td>Comedy, Romance</td>\n",
       "      <td>4.4</td>\n",
       "      <td>35</td>\n",
       "      <td>Ovais Khan</td>\n",
       "      <td>Prateik</td>\n",
       "      <td>Ishita Raj</td>\n",
       "      <td>Siddhant Kapoor</td>\n",
       "    </tr>\n",
       "    <tr>\n",
       "      <th>4</th>\n",
       "      <td>...And Once Again</td>\n",
       "      <td>(2010)</td>\n",
       "      <td>105 min</td>\n",
       "      <td>Drama</td>\n",
       "      <td>NaN</td>\n",
       "      <td>NaN</td>\n",
       "      <td>Amol Palekar</td>\n",
       "      <td>Rajat Kapoor</td>\n",
       "      <td>Rituparna Sengupta</td>\n",
       "      <td>Antara Mali</td>\n",
       "    </tr>\n",
       "    <tr>\n",
       "      <th>5</th>\n",
       "      <td>...Aur Pyaar Ho Gaya</td>\n",
       "      <td>(1997)</td>\n",
       "      <td>147 min</td>\n",
       "      <td>Comedy, Drama, Musical</td>\n",
       "      <td>4.7</td>\n",
       "      <td>827</td>\n",
       "      <td>Rahul Rawail</td>\n",
       "      <td>Bobby Deol</td>\n",
       "      <td>Aishwarya Rai Bachchan</td>\n",
       "      <td>Shammi Kapoor</td>\n",
       "    </tr>\n",
       "    <tr>\n",
       "      <th>6</th>\n",
       "      <td>...Yahaan</td>\n",
       "      <td>(2005)</td>\n",
       "      <td>142 min</td>\n",
       "      <td>Drama, Romance, War</td>\n",
       "      <td>7.4</td>\n",
       "      <td>1,086</td>\n",
       "      <td>Shoojit Sircar</td>\n",
       "      <td>Jimmy Sheirgill</td>\n",
       "      <td>Minissha Lamba</td>\n",
       "      <td>Yashpal Sharma</td>\n",
       "    </tr>\n",
       "    <tr>\n",
       "      <th>7</th>\n",
       "      <td>.in for Motion</td>\n",
       "      <td>(2008)</td>\n",
       "      <td>59 min</td>\n",
       "      <td>Documentary</td>\n",
       "      <td>NaN</td>\n",
       "      <td>NaN</td>\n",
       "      <td>Anirban Datta</td>\n",
       "      <td>NaN</td>\n",
       "      <td>NaN</td>\n",
       "      <td>NaN</td>\n",
       "    </tr>\n",
       "    <tr>\n",
       "      <th>8</th>\n",
       "      <td>?: A Question Mark</td>\n",
       "      <td>(2012)</td>\n",
       "      <td>82 min</td>\n",
       "      <td>Horror, Mystery, Thriller</td>\n",
       "      <td>5.6</td>\n",
       "      <td>326</td>\n",
       "      <td>Allyson Patel</td>\n",
       "      <td>Yash Dave</td>\n",
       "      <td>Muntazir Ahmad</td>\n",
       "      <td>Kiran Bhatia</td>\n",
       "    </tr>\n",
       "    <tr>\n",
       "      <th>9</th>\n",
       "      <td>@Andheri</td>\n",
       "      <td>(2014)</td>\n",
       "      <td>116 min</td>\n",
       "      <td>Action, Crime, Thriller</td>\n",
       "      <td>4.0</td>\n",
       "      <td>11</td>\n",
       "      <td>Biju Bhaskar Nair</td>\n",
       "      <td>Augustine</td>\n",
       "      <td>Fathima Babu</td>\n",
       "      <td>Byon</td>\n",
       "    </tr>\n",
       "    <tr>\n",
       "      <th>10</th>\n",
       "      <td>1:1.6 An Ode to Lost Love</td>\n",
       "      <td>(2004)</td>\n",
       "      <td>96 min</td>\n",
       "      <td>Drama</td>\n",
       "      <td>6.2</td>\n",
       "      <td>17</td>\n",
       "      <td>Madhu Ambat</td>\n",
       "      <td>Rati Agnihotri</td>\n",
       "      <td>Gulshan Grover</td>\n",
       "      <td>Atul Kulkarni</td>\n",
       "    </tr>\n",
       "    <tr>\n",
       "      <th>11</th>\n",
       "      <td>1:13:7 Ek Tera Saath</td>\n",
       "      <td>(2016)</td>\n",
       "      <td>120 min</td>\n",
       "      <td>Horror</td>\n",
       "      <td>5.9</td>\n",
       "      <td>59</td>\n",
       "      <td>Arshad Siddiqui</td>\n",
       "      <td>Pankaj Berry</td>\n",
       "      <td>Anubhav Dhir</td>\n",
       "      <td>Hritu Dudani</td>\n",
       "    </tr>\n",
       "    <tr>\n",
       "      <th>12</th>\n",
       "      <td>100 Days</td>\n",
       "      <td>(1991)</td>\n",
       "      <td>161 min</td>\n",
       "      <td>Horror, Romance, Thriller</td>\n",
       "      <td>6.5</td>\n",
       "      <td>983</td>\n",
       "      <td>Partho Ghosh</td>\n",
       "      <td>Jackie Shroff</td>\n",
       "      <td>Madhuri Dixit</td>\n",
       "      <td>Javed Jaffrey</td>\n",
       "    </tr>\n",
       "    <tr>\n",
       "      <th>13</th>\n",
       "      <td>100% Love</td>\n",
       "      <td>(2012)</td>\n",
       "      <td>166 min</td>\n",
       "      <td>Comedy, Drama, Romance</td>\n",
       "      <td>5.7</td>\n",
       "      <td>512</td>\n",
       "      <td>Rabi Kinagi</td>\n",
       "      <td>Jeet</td>\n",
       "      <td>Koyel Mallick</td>\n",
       "      <td>Sujoy Ghosh</td>\n",
       "    </tr>\n",
       "    <tr>\n",
       "      <th>14</th>\n",
       "      <td>101 Ratein</td>\n",
       "      <td>(1990)</td>\n",
       "      <td>NaN</td>\n",
       "      <td>Thriller</td>\n",
       "      <td>NaN</td>\n",
       "      <td>NaN</td>\n",
       "      <td>Harish</td>\n",
       "      <td>Saraswati</td>\n",
       "      <td>Disco Shanti</td>\n",
       "      <td>NaN</td>\n",
       "    </tr>\n",
       "    <tr>\n",
       "      <th>15</th>\n",
       "      <td>102 Not Out</td>\n",
       "      <td>(2018)</td>\n",
       "      <td>102 min</td>\n",
       "      <td>Comedy, Drama</td>\n",
       "      <td>7.4</td>\n",
       "      <td>6,619</td>\n",
       "      <td>Umesh Shukla</td>\n",
       "      <td>Amitabh Bachchan</td>\n",
       "      <td>Rishi Kapoor</td>\n",
       "      <td>Vijay Raaz</td>\n",
       "    </tr>\n",
       "    <tr>\n",
       "      <th>16</th>\n",
       "      <td>108 Limited</td>\n",
       "      <td>NaN</td>\n",
       "      <td>NaN</td>\n",
       "      <td>NaN</td>\n",
       "      <td>NaN</td>\n",
       "      <td>NaN</td>\n",
       "      <td>Anand Anddy</td>\n",
       "      <td>Vijay Raaz</td>\n",
       "      <td>Sanjay Mishra</td>\n",
       "      <td>Brahmanandam</td>\n",
       "    </tr>\n",
       "    <tr>\n",
       "      <th>17</th>\n",
       "      <td>108 Teerthyatra</td>\n",
       "      <td>(1987)</td>\n",
       "      <td>NaN</td>\n",
       "      <td>Comedy, Drama, Fantasy</td>\n",
       "      <td>NaN</td>\n",
       "      <td>NaN</td>\n",
       "      <td>Rajpati</td>\n",
       "      <td>Pravin Anand</td>\n",
       "      <td>Nayan Bhatt</td>\n",
       "      <td>Jeetu</td>\n",
       "    </tr>\n",
       "    <tr>\n",
       "      <th>18</th>\n",
       "      <td>10ml LOVE</td>\n",
       "      <td>(2010)</td>\n",
       "      <td>87 min</td>\n",
       "      <td>Comedy, Drama, Romance</td>\n",
       "      <td>6.3</td>\n",
       "      <td>162</td>\n",
       "      <td>Sharat Katariya</td>\n",
       "      <td>Neil Bhoopalam</td>\n",
       "      <td>Anusha Bose</td>\n",
       "      <td>Manu Rishi Chadha</td>\n",
       "    </tr>\n",
       "    <tr>\n",
       "      <th>19</th>\n",
       "      <td>11 O'Clock</td>\n",
       "      <td>(1948)</td>\n",
       "      <td>NaN</td>\n",
       "      <td>NaN</td>\n",
       "      <td>NaN</td>\n",
       "      <td>NaN</td>\n",
       "      <td>Homi Wadia</td>\n",
       "      <td>Aftab</td>\n",
       "      <td>Sayani Atish</td>\n",
       "      <td>Austin Ki Bachchi</td>\n",
       "    </tr>\n",
       "  </tbody>\n",
       "</table>\n",
       "</div>"
      ],
      "text/plain": [
       "                                  Name    Year Duration  \\\n",
       "0                                          NaN      NaN   \n",
       "1   #Gadhvi (He thought he was Gandhi)  (2019)  109 min   \n",
       "2                          #Homecoming  (2021)   90 min   \n",
       "3                              #Yaaram  (2019)  110 min   \n",
       "4                    ...And Once Again  (2010)  105 min   \n",
       "5                 ...Aur Pyaar Ho Gaya  (1997)  147 min   \n",
       "6                            ...Yahaan  (2005)  142 min   \n",
       "7                       .in for Motion  (2008)   59 min   \n",
       "8                   ?: A Question Mark  (2012)   82 min   \n",
       "9                             @Andheri  (2014)  116 min   \n",
       "10           1:1.6 An Ode to Lost Love  (2004)   96 min   \n",
       "11                1:13:7 Ek Tera Saath  (2016)  120 min   \n",
       "12                            100 Days  (1991)  161 min   \n",
       "13                           100% Love  (2012)  166 min   \n",
       "14                          101 Ratein  (1990)      NaN   \n",
       "15                         102 Not Out  (2018)  102 min   \n",
       "16                         108 Limited     NaN      NaN   \n",
       "17                     108 Teerthyatra  (1987)      NaN   \n",
       "18                           10ml LOVE  (2010)   87 min   \n",
       "19                          11 O'Clock  (1948)      NaN   \n",
       "\n",
       "                        Genre  Rating  Votes            Director  \\\n",
       "0                       Drama     NaN    NaN       J.S. Randhawa   \n",
       "1                       Drama     7.0      8       Gaurav Bakshi   \n",
       "2              Drama, Musical     NaN    NaN  Soumyajit Majumdar   \n",
       "3             Comedy, Romance     4.4     35          Ovais Khan   \n",
       "4                       Drama     NaN    NaN        Amol Palekar   \n",
       "5      Comedy, Drama, Musical     4.7    827        Rahul Rawail   \n",
       "6         Drama, Romance, War     7.4  1,086      Shoojit Sircar   \n",
       "7                 Documentary     NaN    NaN       Anirban Datta   \n",
       "8   Horror, Mystery, Thriller     5.6    326       Allyson Patel   \n",
       "9     Action, Crime, Thriller     4.0     11   Biju Bhaskar Nair   \n",
       "10                      Drama     6.2     17         Madhu Ambat   \n",
       "11                     Horror     5.9     59     Arshad Siddiqui   \n",
       "12  Horror, Romance, Thriller     6.5    983        Partho Ghosh   \n",
       "13     Comedy, Drama, Romance     5.7    512         Rabi Kinagi   \n",
       "14                   Thriller     NaN    NaN              Harish   \n",
       "15              Comedy, Drama     7.4  6,619        Umesh Shukla   \n",
       "16                        NaN     NaN    NaN         Anand Anddy   \n",
       "17     Comedy, Drama, Fantasy     NaN    NaN             Rajpati   \n",
       "18     Comedy, Drama, Romance     6.3    162     Sharat Katariya   \n",
       "19                        NaN     NaN    NaN          Homi Wadia   \n",
       "\n",
       "             Actor 1                 Actor 2            Actor 3  \n",
       "0           Manmauji                  Birbal    Rajendra Bhatia  \n",
       "1       Rasika Dugal          Vivek Ghamande      Arvind Jangid  \n",
       "2       Sayani Gupta       Plabita Borthakur         Roy Angana  \n",
       "3            Prateik              Ishita Raj    Siddhant Kapoor  \n",
       "4       Rajat Kapoor      Rituparna Sengupta        Antara Mali  \n",
       "5         Bobby Deol  Aishwarya Rai Bachchan      Shammi Kapoor  \n",
       "6    Jimmy Sheirgill          Minissha Lamba     Yashpal Sharma  \n",
       "7                NaN                     NaN                NaN  \n",
       "8          Yash Dave          Muntazir Ahmad       Kiran Bhatia  \n",
       "9          Augustine            Fathima Babu               Byon  \n",
       "10    Rati Agnihotri          Gulshan Grover      Atul Kulkarni  \n",
       "11      Pankaj Berry            Anubhav Dhir       Hritu Dudani  \n",
       "12     Jackie Shroff           Madhuri Dixit      Javed Jaffrey  \n",
       "13              Jeet           Koyel Mallick        Sujoy Ghosh  \n",
       "14         Saraswati            Disco Shanti                NaN  \n",
       "15  Amitabh Bachchan            Rishi Kapoor         Vijay Raaz  \n",
       "16        Vijay Raaz           Sanjay Mishra       Brahmanandam  \n",
       "17      Pravin Anand             Nayan Bhatt              Jeetu  \n",
       "18    Neil Bhoopalam             Anusha Bose  Manu Rishi Chadha  \n",
       "19             Aftab            Sayani Atish  Austin Ki Bachchi  "
      ]
     },
     "execution_count": 2,
     "metadata": {},
     "output_type": "execute_result"
    }
   ],
   "source": [
    "data=pd.read_csv('C:\\\\Users\\\\ANIRUDDHA\\\\Documents\\\\data_science\\\\IMDb_Movies_India.csv',encoding='ISO-8859-1')\n",
    "data.head(20)"
   ]
  },
  {
   "cell_type": "markdown",
   "id": "bac8435b",
   "metadata": {},
   "source": [
    "# Data Overview"
   ]
  },
  {
   "cell_type": "code",
   "execution_count": 3,
   "id": "1f9b6aab",
   "metadata": {},
   "outputs": [],
   "source": [
    "def dataoverview(df,messege):\n",
    "    print(f'{messege}:\\n')\n",
    "    print(\"Rows: \",data.shape[0])\n",
    "    print('\\nNumber of features: ',data.shape[1])\n",
    "    print('\\nFeatures:')\n",
    "    print(data.columns.tolist())\n",
    "    print('\\nMissing values is: ',data.isnull().sum().values.sum())\n",
    "    print(\"\\nUnique values: \")\n",
    "    print(data.nunique())"
   ]
  },
  {
   "cell_type": "code",
   "execution_count": 4,
   "id": "882efe90",
   "metadata": {},
   "outputs": [
    {
     "name": "stdout",
     "output_type": "stream",
     "text": [
      "Overview is::\n",
      "\n",
      "Rows:  15509\n",
      "\n",
      "Number of features:  10\n",
      "\n",
      "Features:\n",
      "['Name', 'Year', 'Duration', 'Genre', 'Rating', 'Votes', 'Director', 'Actor 1', 'Actor 2', 'Actor 3']\n",
      "\n",
      "Missing values is:  33523\n",
      "\n",
      "Unique values: \n",
      "Name        13838\n",
      "Year          102\n",
      "Duration      182\n",
      "Genre         485\n",
      "Rating         84\n",
      "Votes        2034\n",
      "Director     5938\n",
      "Actor 1      4718\n",
      "Actor 2      4891\n",
      "Actor 3      4820\n",
      "dtype: int64\n"
     ]
    }
   ],
   "source": [
    "dataoverview(data,'Overview is:')"
   ]
  },
  {
   "cell_type": "markdown",
   "id": "fa6a4f93",
   "metadata": {},
   "source": [
    "# Finding missing values"
   ]
  },
  {
   "cell_type": "code",
   "execution_count": 5,
   "id": "47f755db",
   "metadata": {},
   "outputs": [
    {
     "data": {
      "text/plain": [
       "Name           0\n",
       "Year         528\n",
       "Duration    8269\n",
       "Genre       1877\n",
       "Rating      7590\n",
       "Votes       7589\n",
       "Director     525\n",
       "Actor 1     1617\n",
       "Actor 2     2384\n",
       "Actor 3     3144\n",
       "dtype: int64"
      ]
     },
     "execution_count": 5,
     "metadata": {},
     "output_type": "execute_result"
    }
   ],
   "source": [
    "data.isna().sum()"
   ]
  },
  {
   "cell_type": "code",
   "execution_count": 6,
   "id": "4da6d472",
   "metadata": {},
   "outputs": [
    {
     "name": "stdout",
     "output_type": "stream",
     "text": [
      "<class 'pandas.core.frame.DataFrame'>\n",
      "RangeIndex: 15509 entries, 0 to 15508\n",
      "Data columns (total 10 columns):\n",
      " #   Column    Non-Null Count  Dtype  \n",
      "---  ------    --------------  -----  \n",
      " 0   Name      15509 non-null  object \n",
      " 1   Year      14981 non-null  object \n",
      " 2   Duration  7240 non-null   object \n",
      " 3   Genre     13632 non-null  object \n",
      " 4   Rating    7919 non-null   float64\n",
      " 5   Votes     7920 non-null   object \n",
      " 6   Director  14984 non-null  object \n",
      " 7   Actor 1   13892 non-null  object \n",
      " 8   Actor 2   13125 non-null  object \n",
      " 9   Actor 3   12365 non-null  object \n",
      "dtypes: float64(1), object(9)\n",
      "memory usage: 1.2+ MB\n"
     ]
    }
   ],
   "source": [
    "data.info()"
   ]
  },
  {
   "cell_type": "markdown",
   "id": "68d08acd",
   "metadata": {},
   "source": [
    "# Value count"
   ]
  },
  {
   "cell_type": "code",
   "execution_count": 7,
   "id": "672e3502",
   "metadata": {},
   "outputs": [
    {
     "data": {
      "text/plain": [
       "Drama                         2780\n",
       "Action                        1289\n",
       "Thriller                       779\n",
       "Romance                        708\n",
       "Drama, Romance                 524\n",
       "                              ... \n",
       "Action, Musical, War             1\n",
       "Horror, Crime, Thriller          1\n",
       "Animation, Comedy                1\n",
       "Romance, Action, Crime           1\n",
       "Adventure, Fantasy, Sci-Fi       1\n",
       "Name: Genre, Length: 485, dtype: int64"
      ]
     },
     "execution_count": 7,
     "metadata": {},
     "output_type": "execute_result"
    }
   ],
   "source": [
    "data['Genre'].value_counts()"
   ]
  },
  {
   "cell_type": "code",
   "execution_count": 8,
   "id": "aa0cefe5",
   "metadata": {},
   "outputs": [
    {
     "data": {
      "text/plain": [
       "Jayant Desai        58\n",
       "Kanti Shah          57\n",
       "Babubhai Mistry     50\n",
       "Mahesh Bhatt        48\n",
       "Master Bhagwan      47\n",
       "                    ..\n",
       "Naeem Siddiqui       1\n",
       "Shadaab Khan         1\n",
       "Mystelle Brabbee     1\n",
       "Kunal Shivdasani     1\n",
       "Kiran Thej           1\n",
       "Name: Director, Length: 5938, dtype: int64"
      ]
     },
     "execution_count": 8,
     "metadata": {},
     "output_type": "execute_result"
    }
   ],
   "source": [
    "data['Director'].value_counts()"
   ]
  },
  {
   "cell_type": "code",
   "execution_count": 9,
   "id": "09318465",
   "metadata": {},
   "outputs": [
    {
     "data": {
      "text/plain": [
       "Ashok Kumar           158\n",
       "Dharmendra            140\n",
       "Jeetendra             140\n",
       "Mithun Chakraborty    133\n",
       "Amitabh Bachchan      129\n",
       "                     ... \n",
       "Vatsal Sheth            1\n",
       "Ujala Baboria           1\n",
       "Dimple Sewak            1\n",
       "Komal Leels             1\n",
       "Sangeeta Tiwari         1\n",
       "Name: Actor 1, Length: 4718, dtype: int64"
      ]
     },
     "execution_count": 9,
     "metadata": {},
     "output_type": "execute_result"
    }
   ],
   "source": [
    "data['Actor 1'].value_counts()"
   ]
  },
  {
   "cell_type": "markdown",
   "id": "72ed2c28",
   "metadata": {},
   "source": [
    "# Remove null values"
   ]
  },
  {
   "cell_type": "code",
   "execution_count": 10,
   "id": "57ec86c6",
   "metadata": {},
   "outputs": [
    {
     "data": {
      "text/plain": [
       "Name          0\n",
       "Year          0\n",
       "Duration      0\n",
       "Genre        31\n",
       "Rating        0\n",
       "Votes         0\n",
       "Director      1\n",
       "Actor 1      75\n",
       "Actor 2     117\n",
       "Actor 3     163\n",
       "dtype: int64"
      ]
     },
     "execution_count": 10,
     "metadata": {},
     "output_type": "execute_result"
    }
   ],
   "source": [
    "data.dropna(subset=['Name','Year','Duration','Votes','Rating'],inplace=True)\n",
    "data.isna().sum()"
   ]
  },
  {
   "cell_type": "markdown",
   "id": "93ecc894",
   "metadata": {},
   "source": [
    "# Remove parenthesis from Date"
   ]
  },
  {
   "cell_type": "code",
   "execution_count": 11,
   "id": "bd43bdd7",
   "metadata": {},
   "outputs": [],
   "source": [
    "data['Year']=data['Year'].str.strip('()').astype(int)"
   ]
  },
  {
   "cell_type": "markdown",
   "id": "7666247b",
   "metadata": {},
   "source": [
    "# Remove comma from Votes"
   ]
  },
  {
   "cell_type": "code",
   "execution_count": 12,
   "id": "6b11f28b",
   "metadata": {
    "scrolled": true
   },
   "outputs": [],
   "source": [
    "data['Votes']=data['Votes'].str.replace(',','').astype(int)"
   ]
  },
  {
   "cell_type": "markdown",
   "id": "f96875f3",
   "metadata": {},
   "source": [
    "# Remove min from Duration"
   ]
  },
  {
   "cell_type": "code",
   "execution_count": 13,
   "id": "1acfa50d",
   "metadata": {},
   "outputs": [],
   "source": [
    "data['Duration']=data['Duration'].str.replace('min','').astype(int)"
   ]
  },
  {
   "cell_type": "markdown",
   "id": "32a2a5e3",
   "metadata": {},
   "source": [
    "# New Info"
   ]
  },
  {
   "cell_type": "code",
   "execution_count": 14,
   "id": "5183b13e",
   "metadata": {},
   "outputs": [
    {
     "name": "stdout",
     "output_type": "stream",
     "text": [
      "<class 'pandas.core.frame.DataFrame'>\n",
      "Int64Index: 5851 entries, 1 to 15508\n",
      "Data columns (total 10 columns):\n",
      " #   Column    Non-Null Count  Dtype  \n",
      "---  ------    --------------  -----  \n",
      " 0   Name      5851 non-null   object \n",
      " 1   Year      5851 non-null   int32  \n",
      " 2   Duration  5851 non-null   int32  \n",
      " 3   Genre     5820 non-null   object \n",
      " 4   Rating    5851 non-null   float64\n",
      " 5   Votes     5851 non-null   int32  \n",
      " 6   Director  5850 non-null   object \n",
      " 7   Actor 1   5776 non-null   object \n",
      " 8   Actor 2   5734 non-null   object \n",
      " 9   Actor 3   5688 non-null   object \n",
      "dtypes: float64(1), int32(3), object(6)\n",
      "memory usage: 434.3+ KB\n"
     ]
    }
   ],
   "source": [
    "data.info()"
   ]
  },
  {
   "cell_type": "code",
   "execution_count": 15,
   "id": "89801250",
   "metadata": {},
   "outputs": [
    {
     "data": {
      "text/html": [
       "<div>\n",
       "<style scoped>\n",
       "    .dataframe tbody tr th:only-of-type {\n",
       "        vertical-align: middle;\n",
       "    }\n",
       "\n",
       "    .dataframe tbody tr th {\n",
       "        vertical-align: top;\n",
       "    }\n",
       "\n",
       "    .dataframe thead th {\n",
       "        text-align: right;\n",
       "    }\n",
       "</style>\n",
       "<table border=\"1\" class=\"dataframe\">\n",
       "  <thead>\n",
       "    <tr style=\"text-align: right;\">\n",
       "      <th></th>\n",
       "      <th>Year</th>\n",
       "      <th>Duration</th>\n",
       "      <th>Rating</th>\n",
       "      <th>Votes</th>\n",
       "    </tr>\n",
       "  </thead>\n",
       "  <tbody>\n",
       "    <tr>\n",
       "      <th>count</th>\n",
       "      <td>5851.000000</td>\n",
       "      <td>5851.000000</td>\n",
       "      <td>5851.000000</td>\n",
       "      <td>5851.000000</td>\n",
       "    </tr>\n",
       "    <tr>\n",
       "      <th>mean</th>\n",
       "      <td>1996.416852</td>\n",
       "      <td>132.294480</td>\n",
       "      <td>5.931875</td>\n",
       "      <td>2611.273116</td>\n",
       "    </tr>\n",
       "    <tr>\n",
       "      <th>std</th>\n",
       "      <td>19.914640</td>\n",
       "      <td>26.555826</td>\n",
       "      <td>1.389942</td>\n",
       "      <td>13433.828528</td>\n",
       "    </tr>\n",
       "    <tr>\n",
       "      <th>min</th>\n",
       "      <td>1931.000000</td>\n",
       "      <td>21.000000</td>\n",
       "      <td>1.100000</td>\n",
       "      <td>5.000000</td>\n",
       "    </tr>\n",
       "    <tr>\n",
       "      <th>25%</th>\n",
       "      <td>1983.000000</td>\n",
       "      <td>117.000000</td>\n",
       "      <td>5.000000</td>\n",
       "      <td>28.000000</td>\n",
       "    </tr>\n",
       "    <tr>\n",
       "      <th>50%</th>\n",
       "      <td>2002.000000</td>\n",
       "      <td>134.000000</td>\n",
       "      <td>6.100000</td>\n",
       "      <td>119.000000</td>\n",
       "    </tr>\n",
       "    <tr>\n",
       "      <th>75%</th>\n",
       "      <td>2013.000000</td>\n",
       "      <td>150.000000</td>\n",
       "      <td>7.000000</td>\n",
       "      <td>862.500000</td>\n",
       "    </tr>\n",
       "    <tr>\n",
       "      <th>max</th>\n",
       "      <td>2021.000000</td>\n",
       "      <td>321.000000</td>\n",
       "      <td>10.000000</td>\n",
       "      <td>591417.000000</td>\n",
       "    </tr>\n",
       "  </tbody>\n",
       "</table>\n",
       "</div>"
      ],
      "text/plain": [
       "              Year     Duration       Rating          Votes\n",
       "count  5851.000000  5851.000000  5851.000000    5851.000000\n",
       "mean   1996.416852   132.294480     5.931875    2611.273116\n",
       "std      19.914640    26.555826     1.389942   13433.828528\n",
       "min    1931.000000    21.000000     1.100000       5.000000\n",
       "25%    1983.000000   117.000000     5.000000      28.000000\n",
       "50%    2002.000000   134.000000     6.100000     119.000000\n",
       "75%    2013.000000   150.000000     7.000000     862.500000\n",
       "max    2021.000000   321.000000    10.000000  591417.000000"
      ]
     },
     "execution_count": 15,
     "metadata": {},
     "output_type": "execute_result"
    }
   ],
   "source": [
    "data.describe()"
   ]
  },
  {
   "cell_type": "markdown",
   "id": "2b741613",
   "metadata": {},
   "source": [
    "# Drop column"
   ]
  },
  {
   "cell_type": "code",
   "execution_count": 16,
   "id": "520d429a",
   "metadata": {},
   "outputs": [],
   "source": [
    "data.drop('Genre',axis=1,inplace=True)"
   ]
  },
  {
   "cell_type": "markdown",
   "id": "5f0f0c74",
   "metadata": {},
   "source": [
    "# Exploratory data analysis"
   ]
  },
  {
   "cell_type": "code",
   "execution_count": 20,
   "id": "4aeb9fae",
   "metadata": {},
   "outputs": [
    {
     "name": "stderr",
     "output_type": "stream",
     "text": [
      "C:\\Users\\ANIRUDDHA\\anaconda3\\lib\\site-packages\\seaborn\\distributions.py:2619: FutureWarning: `distplot` is a deprecated function and will be removed in a future version. Please adapt your code to use either `displot` (a figure-level function with similar flexibility) or `histplot` (an axes-level function for histograms).\n",
      "  warnings.warn(msg, FutureWarning)\n",
      "C:\\Users\\ANIRUDDHA\\anaconda3\\lib\\site-packages\\seaborn\\distributions.py:2619: FutureWarning: `distplot` is a deprecated function and will be removed in a future version. Please adapt your code to use either `displot` (a figure-level function with similar flexibility) or `histplot` (an axes-level function for histograms).\n",
      "  warnings.warn(msg, FutureWarning)\n"
     ]
    },
    {
     "data": {
      "image/png": "[encoded data removed]",
      "text/plain": [
       "<Figure size 1080x504 with 4 Axes>"
      ]
     },
     "metadata": {
      "needs_background": "light"
     },
     "output_type": "display_data"
    }
   ],
   "source": [
    "plt.figure(figsize=(15,7))\n",
    "plt.subplot(2,2,1)\n",
    "sns.boxplot(data=data,x='Votes')\n",
    "\n",
    "plt.subplot(2,2,2)\n",
    "sns.distplot(data['Year'],color='green')\n",
    "\n",
    "plt.subplot(2,2,3)\n",
    "sns.distplot(data['Rating'],color='green')\n",
    "\n",
    "plt.subplot(2,2,4)\n",
    "sns.scatterplot(data=data,x=data['Duration'],y=data['Rating'])\n",
    "\n",
    "plt.show()"
   ]
  },
  {
   "cell_type": "code",
   "execution_count": 19,
   "id": "5ff05a43",
   "metadata": {},
   "outputs": [
    {
     "data": {
      "image/png": "[encoded data removed]",
      "text/plain": [
       "<Figure size 2160x1080 with 4 Axes>"
      ]
     },
     "metadata": {
      "needs_background": "light"
     },
     "output_type": "display_data"
    }
   ],
   "source": [
    "data.hist(figsize=(30,15))\n",
    "None"
   ]
  },
  {
   "cell_type": "markdown",
   "id": "78f4d570",
   "metadata": {},
   "source": [
    "# Heatmap implement"
   ]
  },
  {
   "cell_type": "code",
   "execution_count": 22,
   "id": "5621262f",
   "metadata": {},
   "outputs": [
    {
     "data": {
      "image/png": "[encoded data removed]",
      "text/plain": [
       "<Figure size 1440x360 with 2 Axes>"
      ]
     },
     "metadata": {
      "needs_background": "light"
     },
     "output_type": "display_data"
    }
   ],
   "source": [
    "corrmat=data.corr()\n",
    "fig=plt.figure(figsize=(20,5))\n",
    "sns.heatmap(corrmat,vmax=0.8,square=True,annot=True)\n",
    "plt.show()"
   ]
  },
  {
   "cell_type": "markdown",
   "id": "769d352c",
   "metadata": {},
   "source": [
    "# Drop the column"
   ]
  },
  {
   "cell_type": "code",
   "execution_count": 24,
   "id": "dfc65121",
   "metadata": {},
   "outputs": [],
   "source": [
    "data.drop(['Name','Director','Actor 1','Actor 2','Actor 3'],axis=1,inplace=True)"
   ]
  },
  {
   "cell_type": "code",
   "execution_count": 26,
   "id": "9f5ea167",
   "metadata": {
    "scrolled": false
   },
   "outputs": [
    {
     "data": {
      "text/html": [
       "<div>\n",
       "<style scoped>\n",
       "    .dataframe tbody tr th:only-of-type {\n",
       "        vertical-align: middle;\n",
       "    }\n",
       "\n",
       "    .dataframe tbody tr th {\n",
       "        vertical-align: top;\n",
       "    }\n",
       "\n",
       "    .dataframe thead th {\n",
       "        text-align: right;\n",
       "    }\n",
       "</style>\n",
       "<table border=\"1\" class=\"dataframe\">\n",
       "  <thead>\n",
       "    <tr style=\"text-align: right;\">\n",
       "      <th></th>\n",
       "      <th>Year</th>\n",
       "      <th>Duration</th>\n",
       "      <th>Rating</th>\n",
       "      <th>Votes</th>\n",
       "    </tr>\n",
       "  </thead>\n",
       "  <tbody>\n",
       "    <tr>\n",
       "      <th>1</th>\n",
       "      <td>2019</td>\n",
       "      <td>109</td>\n",
       "      <td>7.0</td>\n",
       "      <td>8</td>\n",
       "    </tr>\n",
       "    <tr>\n",
       "      <th>3</th>\n",
       "      <td>2019</td>\n",
       "      <td>110</td>\n",
       "      <td>4.4</td>\n",
       "      <td>35</td>\n",
       "    </tr>\n",
       "    <tr>\n",
       "      <th>5</th>\n",
       "      <td>1997</td>\n",
       "      <td>147</td>\n",
       "      <td>4.7</td>\n",
       "      <td>827</td>\n",
       "    </tr>\n",
       "    <tr>\n",
       "      <th>6</th>\n",
       "      <td>2005</td>\n",
       "      <td>142</td>\n",
       "      <td>7.4</td>\n",
       "      <td>1086</td>\n",
       "    </tr>\n",
       "    <tr>\n",
       "      <th>8</th>\n",
       "      <td>2012</td>\n",
       "      <td>82</td>\n",
       "      <td>5.6</td>\n",
       "      <td>326</td>\n",
       "    </tr>\n",
       "    <tr>\n",
       "      <th>9</th>\n",
       "      <td>2014</td>\n",
       "      <td>116</td>\n",
       "      <td>4.0</td>\n",
       "      <td>11</td>\n",
       "    </tr>\n",
       "    <tr>\n",
       "      <th>10</th>\n",
       "      <td>2004</td>\n",
       "      <td>96</td>\n",
       "      <td>6.2</td>\n",
       "      <td>17</td>\n",
       "    </tr>\n",
       "    <tr>\n",
       "      <th>11</th>\n",
       "      <td>2016</td>\n",
       "      <td>120</td>\n",
       "      <td>5.9</td>\n",
       "      <td>59</td>\n",
       "    </tr>\n",
       "    <tr>\n",
       "      <th>12</th>\n",
       "      <td>1991</td>\n",
       "      <td>161</td>\n",
       "      <td>6.5</td>\n",
       "      <td>983</td>\n",
       "    </tr>\n",
       "    <tr>\n",
       "      <th>13</th>\n",
       "      <td>2012</td>\n",
       "      <td>166</td>\n",
       "      <td>5.7</td>\n",
       "      <td>512</td>\n",
       "    </tr>\n",
       "    <tr>\n",
       "      <th>15</th>\n",
       "      <td>2018</td>\n",
       "      <td>102</td>\n",
       "      <td>7.4</td>\n",
       "      <td>6619</td>\n",
       "    </tr>\n",
       "    <tr>\n",
       "      <th>18</th>\n",
       "      <td>2010</td>\n",
       "      <td>87</td>\n",
       "      <td>6.3</td>\n",
       "      <td>162</td>\n",
       "    </tr>\n",
       "    <tr>\n",
       "      <th>21</th>\n",
       "      <td>1958</td>\n",
       "      <td>132</td>\n",
       "      <td>7.2</td>\n",
       "      <td>72</td>\n",
       "    </tr>\n",
       "    <tr>\n",
       "      <th>22</th>\n",
       "      <td>2021</td>\n",
       "      <td>105</td>\n",
       "      <td>4.4</td>\n",
       "      <td>63</td>\n",
       "    </tr>\n",
       "    <tr>\n",
       "      <th>25</th>\n",
       "      <td>2017</td>\n",
       "      <td>116</td>\n",
       "      <td>6.6</td>\n",
       "      <td>26</td>\n",
       "    </tr>\n",
       "    <tr>\n",
       "      <th>28</th>\n",
       "      <td>2009</td>\n",
       "      <td>146</td>\n",
       "      <td>7.3</td>\n",
       "      <td>6329</td>\n",
       "    </tr>\n",
       "    <tr>\n",
       "      <th>30</th>\n",
       "      <td>2005</td>\n",
       "      <td>116</td>\n",
       "      <td>7.1</td>\n",
       "      <td>1002</td>\n",
       "    </tr>\n",
       "    <tr>\n",
       "      <th>32</th>\n",
       "      <td>1993</td>\n",
       "      <td>168</td>\n",
       "      <td>5.6</td>\n",
       "      <td>15</td>\n",
       "    </tr>\n",
       "    <tr>\n",
       "      <th>33</th>\n",
       "      <td>2002</td>\n",
       "      <td>158</td>\n",
       "      <td>6.9</td>\n",
       "      <td>1235</td>\n",
       "    </tr>\n",
       "    <tr>\n",
       "      <th>34</th>\n",
       "      <td>2014</td>\n",
       "      <td>126</td>\n",
       "      <td>3.5</td>\n",
       "      <td>10</td>\n",
       "    </tr>\n",
       "  </tbody>\n",
       "</table>\n",
       "</div>"
      ],
      "text/plain": [
       "    Year  Duration  Rating  Votes\n",
       "1   2019       109     7.0      8\n",
       "3   2019       110     4.4     35\n",
       "5   1997       147     4.7    827\n",
       "6   2005       142     7.4   1086\n",
       "8   2012        82     5.6    326\n",
       "9   2014       116     4.0     11\n",
       "10  2004        96     6.2     17\n",
       "11  2016       120     5.9     59\n",
       "12  1991       161     6.5    983\n",
       "13  2012       166     5.7    512\n",
       "15  2018       102     7.4   6619\n",
       "18  2010        87     6.3    162\n",
       "21  1958       132     7.2     72\n",
       "22  2021       105     4.4     63\n",
       "25  2017       116     6.6     26\n",
       "28  2009       146     7.3   6329\n",
       "30  2005       116     7.1   1002\n",
       "32  1993       168     5.6     15\n",
       "33  2002       158     6.9   1235\n",
       "34  2014       126     3.5     10"
      ]
     },
     "execution_count": 26,
     "metadata": {},
     "output_type": "execute_result"
    }
   ],
   "source": [
    "data.head(20)"
   ]
  },
  {
   "cell_type": "markdown",
   "id": "3e886222",
   "metadata": {},
   "source": [
    "# Feature Engineering"
   ]
  },
  {
   "cell_type": "code",
   "execution_count": 27,
   "id": "98ab7fa3",
   "metadata": {},
   "outputs": [],
   "source": [
    "x=data[['Year','Duration','Votes']]\n",
    "y=data['Rating']"
   ]
  },
  {
   "cell_type": "markdown",
   "id": "0e4ff70f",
   "metadata": {},
   "source": [
    "# Training test data split"
   ]
  },
  {
   "cell_type": "code",
   "execution_count": 28,
   "id": "22effc76",
   "metadata": {},
   "outputs": [],
   "source": [
    "x_train,x_test,y_train,y_test=train_test_split(x,y,test_size=0.2,random_state=1000)"
   ]
  },
  {
   "cell_type": "code",
   "execution_count": 29,
   "id": "e2aa73c4",
   "metadata": {},
   "outputs": [
    {
     "name": "stdout",
     "output_type": "stream",
     "text": [
      "       Year  Duration  Votes\n",
      "12023  2008       120    251\n",
      "8993   2018       130     10\n",
      "371    2001       177   2192\n",
      "2488   2009       103     85\n",
      "11935  2003        50    268\n",
      "...     ...       ...    ...\n",
      "3561   2013       130    339\n",
      "6175   1996       131    279\n",
      "9913   1979       116     15\n",
      "12469  2018       137     65\n",
      "3780   1935       129      7\n",
      "\n",
      "[4680 rows x 3 columns]\n"
     ]
    }
   ],
   "source": [
    "print(x_train)"
   ]
  },
  {
   "cell_type": "code",
   "execution_count": 30,
   "id": "0f854545",
   "metadata": {},
   "outputs": [
    {
     "name": "stdout",
     "output_type": "stream",
     "text": [
      "       Year  Duration  Votes\n",
      "7822   2020        85     15\n",
      "4404   1957       137     14\n",
      "6229   2003       137    719\n",
      "11043  2015       164  19913\n",
      "8850   1954       199     46\n",
      "...     ...       ...    ...\n",
      "6361   1977       112     46\n",
      "480    2001       160    403\n",
      "5658   2010       125     13\n",
      "9063   2010       110    126\n",
      "30     2005       116   1002\n",
      "\n",
      "[1171 rows x 3 columns]\n"
     ]
    }
   ],
   "source": [
    "print(x_test)"
   ]
  },
  {
   "cell_type": "code",
   "execution_count": 31,
   "id": "a7825223",
   "metadata": {},
   "outputs": [
    {
     "name": "stdout",
     "output_type": "stream",
     "text": [
      "12023    5.5\n",
      "8993     2.8\n",
      "371      7.2\n",
      "2488     5.2\n",
      "11935    6.1\n",
      "        ... \n",
      "3561     2.4\n",
      "6175     6.7\n",
      "9913     6.8\n",
      "12469    6.8\n",
      "3780     5.7\n",
      "Name: Rating, Length: 4680, dtype: float64\n"
     ]
    }
   ],
   "source": [
    "print(y_train)"
   ]
  },
  {
   "cell_type": "code",
   "execution_count": 32,
   "id": "5de2eea3",
   "metadata": {},
   "outputs": [
    {
     "name": "stdout",
     "output_type": "stream",
     "text": [
      "7822     7.3\n",
      "4404     6.4\n",
      "6229     7.3\n",
      "11043    4.4\n",
      "8850     7.3\n",
      "        ... \n",
      "6361     6.1\n",
      "480      3.8\n",
      "5658     6.0\n",
      "9063     6.9\n",
      "30       7.1\n",
      "Name: Rating, Length: 1171, dtype: float64\n"
     ]
    }
   ],
   "source": [
    "print(y_test)"
   ]
  },
  {
   "cell_type": "markdown",
   "id": "c5ea62f7",
   "metadata": {},
   "source": [
    "# Model building"
   ]
  },
  {
   "cell_type": "code",
   "execution_count": 33,
   "id": "1e30964f",
   "metadata": {},
   "outputs": [],
   "source": [
    "pipeline=Pipeline([\n",
    "    ('scaler',StandardScaler()),\n",
    "    ('sgd',SGDRegressor(max_iter=10000,random_state=1000))\n",
    "])"
   ]
  },
  {
   "cell_type": "code",
   "execution_count": 34,
   "id": "e3849d33",
   "metadata": {},
   "outputs": [
    {
     "data": {
      "text/plain": [
       "Pipeline(steps=[('scaler', StandardScaler()),\n",
       "                ('sgd', SGDRegressor(max_iter=10000, random_state=1000))])"
      ]
     },
     "execution_count": 34,
     "metadata": {},
     "output_type": "execute_result"
    }
   ],
   "source": [
    "pipeline.fit(x_train,y_train)"
   ]
  },
  {
   "cell_type": "markdown",
   "id": "d1a29c31",
   "metadata": {},
   "source": [
    "## predict the rating of test set"
   ]
  },
  {
   "cell_type": "code",
   "execution_count": 35,
   "id": "cada7762",
   "metadata": {},
   "outputs": [],
   "source": [
    "y_pred_pipeline=pipeline.predict(x_test)"
   ]
  },
  {
   "cell_type": "markdown",
   "id": "05f0a750",
   "metadata": {},
   "source": [
    "# Model evaluation"
   ]
  },
  {
   "cell_type": "code",
   "execution_count": 36,
   "id": "a015db38",
   "metadata": {},
   "outputs": [],
   "source": [
    "mae_pipeline=mean_absolute_error(y_test,y_pred_pipeline)\n",
    "mse_pipeline=mean_squared_error(y_test,y_pred_pipeline)\n",
    "r2_pipeline=r2_score(y_test,y_pred_pipeline)"
   ]
  },
  {
   "cell_type": "code",
   "execution_count": 37,
   "id": "9f06e230",
   "metadata": {},
   "outputs": [
    {
     "name": "stdout",
     "output_type": "stream",
     "text": [
      "mean absolute error is:  1.040142363499226\n",
      "mean squared error is:  1.75589466147756\n",
      "r2 error is:  0.037929023872087186\n"
     ]
    }
   ],
   "source": [
    "print('mean absolute error is: ',mae_pipeline)\n",
    "print('mean squared error is: ',mse_pipeline)\n",
    "print('r2 error is: ',r2_pipeline)"
   ]
  },
  {
   "cell_type": "markdown",
   "id": "87a4ecf6",
   "metadata": {},
   "source": [
    "# Model deployment"
   ]
  },
  {
   "cell_type": "code",
   "execution_count": 38,
   "id": "590ae601",
   "metadata": {},
   "outputs": [
    {
     "name": "stdout",
     "output_type": "stream",
     "text": [
      "predict rating is:  [5.69062882]\n"
     ]
    }
   ],
   "source": [
    "new_input=pd.DataFrame({\n",
    "    'Year':[2023],\n",
    "    'Duration':[120],\n",
    "    'Votes':[10000],\n",
    "})\n",
    "predict_rating=pipeline.predict(new_input)\n",
    "print('predict rating is: ',predict_rating)"
   ]
  },
  {
   "cell_type": "code",
   "execution_count": null,
   "id": "9c1c98ae",
   "metadata": {},
   "outputs": [],
   "source": []
  }
 ],
 "metadata": {
  "kernelspec": {
   "display_name": "Python 3 (ipykernel)",
   "language": "python",
   "name": "python3"
  },
  "language_info": {
   "codemirror_mode": {
    "name": "ipython",
    "version": 3
   },
   "file_extension": ".py",
   "mimetype": "text/x-python",
   "name": "python",
   "nbconvert_exporter": "python",
   "pygments_lexer": "ipython3",
   "version": "3.9.7"
  }
 },
 "nbformat": 4,
 "nbformat_minor": 5
}
